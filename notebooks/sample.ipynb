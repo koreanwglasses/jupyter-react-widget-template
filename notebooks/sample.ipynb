{
 "cells": [
  {
   "cell_type": "code",
   "execution_count": 1,
   "id": "ce530f60-16b9-41a3-8fb6-cf863c09d44e",
   "metadata": {},
   "outputs": [],
   "source": [
    "%load_ext autoreload\n",
    "%autoreload 2"
   ]
  },
  {
   "cell_type": "code",
   "execution_count": 2,
   "id": "b67d4847",
   "metadata": {},
   "outputs": [],
   "source": [
    "from mypackage import Sample"
   ]
  },
  {
   "cell_type": "code",
   "execution_count": 3,
   "id": "6207bdbf",
   "metadata": {},
   "outputs": [],
   "source": [
    "y = 0\n",
    "def increment(x):\n",
    "    global y\n",
    "    y = y + 1\n",
    "    return  x + y"
   ]
  },
  {
   "cell_type": "code",
   "execution_count": 4,
   "id": "c9e88c4f-8423-4b96-b123-361b2778c67e",
   "metadata": {},
   "outputs": [
    {
     "data": {
      "text/plain": [
       "show(7fd526b91100, self=<mypackage.widgets.sample.Sample object at 0x7fd526b86220>)"
      ]
     },
     "execution_count": 4,
     "metadata": {},
     "output_type": "execute_result"
    },
    {
     "data": {
      "application/vnd.jupyter.widget-view+json": {
       "model_id": "c8144898b05a4ff09c88cdfb7492567f",
       "version_major": 2,
       "version_minor": 0
      },
      "text/plain": [
       "LayoutWidget(Layout(show(7fd526b91100, self=<mypackage.widgets.sample.Sample object at 0x7fd526b86220>)))"
      ]
     },
     "metadata": {},
     "output_type": "display_data"
    }
   ],
   "source": [
    "widget = Sample(increment)\n",
    "widget.show()"
   ]
  },
  {
   "cell_type": "code",
   "execution_count": 13,
   "id": "3c524c3d",
   "metadata": {},
   "outputs": [
    {
     "data": {
      "text/plain": [
       "(150, 12)"
      ]
     },
     "execution_count": 13,
     "metadata": {},
     "output_type": "execute_result"
    }
   ],
   "source": [
    "widget.model.x, y"
   ]
  },
  {
   "cell_type": "code",
   "execution_count": 14,
   "id": "d22ec7e2",
   "metadata": {},
   "outputs": [],
   "source": [
    "widget.model.x=110"
   ]
  },
  {
   "cell_type": "code",
   "execution_count": null,
   "id": "9786baad",
   "metadata": {},
   "outputs": [],
   "source": []
  }
 ],
 "metadata": {
  "kernelspec": {
   "display_name": "Python 3 (ipykernel)",
   "language": "python",
   "name": "python3"
  },
  "language_info": {
   "codemirror_mode": {
    "name": "ipython",
    "version": 3
   },
   "file_extension": ".py",
   "mimetype": "text/x-python",
   "name": "python",
   "nbconvert_exporter": "python",
   "pygments_lexer": "ipython3",
   "version": "3.9.13"
  },
  "vscode": {
   "interpreter": {
    "hash": "3e4ce8a43f08eabac02128ee3c9ac4351173d9d9ba1b2bb92d069c84b1e9fe9e"
   }
  }
 },
 "nbformat": 4,
 "nbformat_minor": 5
}
