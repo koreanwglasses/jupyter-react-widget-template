{
 "cells": [
  {
   "cell_type": "code",
   "execution_count": 1,
   "id": "0b6f35e8",
   "metadata": {},
   "outputs": [],
   "source": [
    "from mypackage import Sample"
   ]
  },
  {
   "cell_type": "code",
   "execution_count": 2,
   "id": "62c3e9a5",
   "metadata": {},
   "outputs": [],
   "source": [
    "def func(x):\n",
    "    return x + 10"
   ]
  },
  {
   "cell_type": "code",
   "execution_count": 3,
   "id": "99b7d981",
   "metadata": {},
   "outputs": [
    {
     "data": {
      "text/plain": [
       "show(7f0d0f22aee0, self=<mypackage.widgets.sample.Sample object at 0x7f0d0f232b20>)"
      ]
     },
     "execution_count": 3,
     "metadata": {},
     "output_type": "execute_result"
    },
    {
     "data": {
      "application/vnd.jupyter.widget-view+json": {
       "model_id": "a1d82e4b0959422f80ff06a7865e9649",
       "version_major": 2,
       "version_minor": 0
      },
      "text/plain": [
       "LayoutWidget(Layout(show(7f0d0f22aee0, self=<mypackage.widgets.sample.Sample object at 0x7f0d0f232b20>)))"
      ]
     },
     "metadata": {},
     "output_type": "display_data"
    },
    {
     "name": "stdout",
     "output_type": "stream",
     "text": [
      "1\n",
      "2\n",
      "4\n",
      "8\n",
      "2\n",
      "4\n",
      "3\n",
      "6\n",
      "12\n"
     ]
    }
   ],
   "source": [
    "w = Sample(func)\n",
    "w.show()"
   ]
  },
  {
   "cell_type": "code",
   "execution_count": 10,
   "id": "c91e7fcd",
   "metadata": {},
   "outputs": [
    {
     "data": {
      "text/plain": [
       "24"
      ]
     },
     "execution_count": 10,
     "metadata": {},
     "output_type": "execute_result"
    }
   ],
   "source": [
    "w.model.x"
   ]
  },
  {
   "cell_type": "code",
   "execution_count": 5,
   "id": "29ffedaa",
   "metadata": {},
   "outputs": [],
   "source": [
    "def func2(x):\n",
    "    print(x)\n",
    "    return x*2"
   ]
  },
  {
   "cell_type": "code",
   "execution_count": 6,
   "id": "25d6157c",
   "metadata": {},
   "outputs": [],
   "source": [
    "w.model.cb=func2"
   ]
  },
  {
   "cell_type": "code",
   "execution_count": null,
   "id": "b586e562",
   "metadata": {},
   "outputs": [],
   "source": []
  }
 ],
 "metadata": {
  "kernelspec": {
   "display_name": "Python 3 (ipykernel)",
   "language": "python",
   "name": "python3"
  },
  "language_info": {
   "codemirror_mode": {
    "name": "ipython",
    "version": 3
   },
   "file_extension": ".py",
   "mimetype": "text/x-python",
   "name": "python",
   "nbconvert_exporter": "python",
   "pygments_lexer": "ipython3",
   "version": "3.9.13"
  },
  "vscode": {
   "interpreter": {
    "hash": "9355ab689216fdeb90cd05e6bb2c57e4efea0fb312ca3a35a31ab7c36293ce3c"
   }
  }
 },
 "nbformat": 4,
 "nbformat_minor": 5
}
