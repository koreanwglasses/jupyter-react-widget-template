{
 "cells": [
  {
   "cell_type": "code",
   "execution_count": 1,
   "id": "ce530f60-16b9-41a3-8fb6-cf863c09d44e",
   "metadata": {},
   "outputs": [],
   "source": [
    "%load_ext autoreload\n",
    "%autoreload 2"
   ]
  },
  {
   "cell_type": "code",
   "execution_count": 2,
   "id": "b67d4847",
   "metadata": {},
   "outputs": [],
   "source": [
    "from mypackage import Sample"
   ]
  },
  {
   "cell_type": "code",
   "execution_count": 3,
   "id": "4ffc98d4",
   "metadata": {},
   "outputs": [],
   "source": [
    "x = 0\n",
    "def increment(y):\n",
    "    global x\n",
    "    print(f\"Incrementing x by {y} to {x + y}\" )\n",
    "    x = x + y\n",
    "    print(f\"Returning {x}\")\n",
    "    return x "
   ]
  },
  {
   "cell_type": "code",
   "execution_count": 5,
   "id": "c9e88c4f-8423-4b96-b123-361b2778c67e",
   "metadata": {},
   "outputs": [
    {
     "data": {
      "text/plain": [
       "show(7f17172aeb80, self=<mypackage.widgets.sample.Sample object at 0x7f17380aeb50>)"
      ]
     },
     "execution_count": 5,
     "metadata": {},
     "output_type": "execute_result"
    },
    {
     "data": {
      "application/vnd.jupyter.widget-view+json": {
       "model_id": "83cc7dea1ba2465ba97ec84db36c132b",
       "version_major": 2,
       "version_minor": 0
      },
      "text/plain": [
       "LayoutWidget(Layout(show(7f17172aeb80, self=<mypackage.widgets.sample.Sample object at 0x7f17380aeb50>)))"
      ]
     },
     "metadata": {},
     "output_type": "display_data"
    },
    {
     "name": "stdout",
     "output_type": "stream",
     "text": [
      "hya10\n",
      "('hya', 'hwo', {'wow': 1})\n",
      "hya10\n",
      "('hya', 'hwo', {'wow': 1})\n",
      "hya10\n",
      "('hya', 'hwo', {'wow': 1})\n",
      "hya10\n",
      "('hya', 'hwo', {'wow': 1})\n",
      "hya10\n",
      "('hya', 'hwo', {'wow': 1})\n"
     ]
    }
   ],
   "source": [
    "widget = Sample(cb)"
   ]
  },
  {
   "cell_type": "code",
   "execution_count": null,
   "id": "420bafbf",
   "metadata": {},
   "outputs": [],
   "source": []
  }
 ],
 "metadata": {
  "kernelspec": {
   "display_name": "Python 3 (ipykernel)",
   "language": "python",
   "name": "python3"
  },
  "language_info": {
   "codemirror_mode": {
    "name": "ipython",
    "version": 3
   },
   "file_extension": ".py",
   "mimetype": "text/x-python",
   "name": "python",
   "nbconvert_exporter": "python",
   "pygments_lexer": "ipython3",
   "version": "3.9.13"
  },
  "vscode": {
   "interpreter": {
    "hash": "3e4ce8a43f08eabac02128ee3c9ac4351173d9d9ba1b2bb92d069c84b1e9fe9e"
   }
  }
 },
 "nbformat": 4,
 "nbformat_minor": 5
}
