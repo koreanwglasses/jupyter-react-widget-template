{
 "cells": [
  {
   "cell_type": "code",
   "execution_count": 1,
   "id": "ce530f60-16b9-41a3-8fb6-cf863c09d44e",
   "metadata": {},
   "outputs": [],
   "source": [
    "%load_ext autoreload\n",
    "%autoreload 2"
   ]
  },
  {
   "cell_type": "code",
   "execution_count": 2,
   "id": "b67d4847",
   "metadata": {},
   "outputs": [],
   "source": [
    "from mypackage import Sample"
   ]
  },
  {
   "cell_type": "code",
   "execution_count": 3,
   "id": "62c69c23",
   "metadata": {},
   "outputs": [],
   "source": [
    "x = 0\n",
    "def increment():\n",
    "    global x\n",
    "    print(f\"Incrementing x to {x + 1}\" )\n",
    "    x = x + 1\n",
    "    print(f\"Returning {x}\")\n",
    "    return x "
   ]
  },
  {
   "cell_type": "code",
   "execution_count": 5,
   "id": "c9e88c4f-8423-4b96-b123-361b2778c67e",
   "metadata": {},
   "outputs": [
    {
     "data": {
      "text/plain": [
       "show(7fea26eb2220, self=<mypackage.widgets.sample.Sample object at 0x7fea26e3e760>)"
      ]
     },
     "execution_count": 5,
     "metadata": {},
     "output_type": "execute_result"
    },
    {
     "data": {
      "application/vnd.jupyter.widget-view+json": {
       "model_id": "5ca2a205e2a343639a54fa40df821997",
       "version_major": 2,
       "version_minor": 0
      },
      "text/plain": [
       "LayoutWidget(Layout(show(7fea26eb2220, self=<mypackage.widgets.sample.Sample object at 0x7fea26e3e760>)))"
      ]
     },
     "metadata": {},
     "output_type": "display_data"
    },
    {
     "name": "stdout",
     "output_type": "stream",
     "text": [
      "Incrementing x to 5\n",
      "Returning 5\n",
      "Incrementing x to 6\n",
      "Returning 6\n",
      "Incrementing x to 7\n",
      "Returning 7\n",
      "Incrementing x to 8\n",
      "Returning 8\n",
      "Incrementing x to 9\n",
      "Returning 9\n",
      "Incrementing x to 10\n",
      "Returning 10\n",
      "Incrementing x to 11\n",
      "Returning 11\n",
      "Incrementing x to 12\n",
      "Returning 12\n"
     ]
    }
   ],
   "source": [
    "widget = Sample(increment)\n",
    "widget.show()"
   ]
  },
  {
   "cell_type": "code",
   "execution_count": null,
   "id": "9328fe67",
   "metadata": {},
   "outputs": [],
   "source": []
  }
 ],
 "metadata": {
  "kernelspec": {
   "display_name": "Python 3 (ipykernel)",
   "language": "python",
   "name": "python3"
  },
  "language_info": {
   "codemirror_mode": {
    "name": "ipython",
    "version": 3
   },
   "file_extension": ".py",
   "mimetype": "text/x-python",
   "name": "python",
   "nbconvert_exporter": "python",
   "pygments_lexer": "ipython3",
   "version": "3.9.13"
  },
  "vscode": {
   "interpreter": {
    "hash": "3e4ce8a43f08eabac02128ee3c9ac4351173d9d9ba1b2bb92d069c84b1e9fe9e"
   }
  }
 },
 "nbformat": 4,
 "nbformat_minor": 5
}
