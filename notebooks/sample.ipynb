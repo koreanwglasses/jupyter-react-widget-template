{
 "cells": [
  {
   "cell_type": "code",
   "execution_count": 1,
   "id": "0b6f35e8",
   "metadata": {},
   "outputs": [],
   "source": [
    "from mypackage import Sample\n",
    "from mypackage.core.idom_loader import reload_bundle"
   ]
  },
  {
   "cell_type": "code",
   "execution_count": 2,
   "id": "62c3e9a5",
   "metadata": {},
   "outputs": [],
   "source": [
    "def func(x, y):\n",
    "    return x + y"
   ]
  },
  {
   "cell_type": "code",
   "execution_count": 3,
   "id": "99b7d981",
   "metadata": {},
   "outputs": [
    {
     "data": {
      "text/plain": [
       "show(7fcb601e3be0, self=<mypackage.widgets.sample.Sample object at 0x7fcb601d5550>)"
      ]
     },
     "execution_count": 3,
     "metadata": {},
     "output_type": "execute_result"
    },
    {
     "data": {
      "application/vnd.jupyter.widget-view+json": {
       "model_id": "4fe13f7c390d4aefb1efa6b02f774240",
       "version_major": 2,
       "version_minor": 0
      },
      "text/plain": [
       "LayoutWidget(Layout(show(7fcb601e3be0, self=<mypackage.widgets.sample.Sample object at 0x7fcb601d5550>)))"
      ]
     },
     "metadata": {},
     "output_type": "display_data"
    }
   ],
   "source": [
    "reload_bundle()\n",
    "w = Sample(func)\n",
    "w.show()"
   ]
  },
  {
   "cell_type": "code",
   "execution_count": 6,
   "id": "e36168dc",
   "metadata": {},
   "outputs": [],
   "source": [
    "w.model.x=1000"
   ]
  },
  {
   "cell_type": "code",
   "execution_count": null,
   "id": "3fa5aa7b",
   "metadata": {},
   "outputs": [],
   "source": []
  }
 ],
 "metadata": {
  "kernelspec": {
   "display_name": "Python 3 (ipykernel)",
   "language": "python",
   "name": "python3"
  },
  "language_info": {
   "codemirror_mode": {
    "name": "ipython",
    "version": 3
   },
   "file_extension": ".py",
   "mimetype": "text/x-python",
   "name": "python",
   "nbconvert_exporter": "python",
   "pygments_lexer": "ipython3",
   "version": "3.9.13"
  },
  "vscode": {
   "interpreter": {
    "hash": "9355ab689216fdeb90cd05e6bb2c57e4efea0fb312ca3a35a31ab7c36293ce3c"
   }
  }
 },
 "nbformat": 4,
 "nbformat_minor": 5
}
